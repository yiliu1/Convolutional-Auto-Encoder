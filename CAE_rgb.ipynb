{
 "cells": [
  {
   "cell_type": "markdown",
   "metadata": {},
   "source": [
    "# 1 .Convolutional RGB Auto encoder "
   ]
  },
  {
   "cell_type": "markdown",
   "metadata": {},
   "source": [
    "CNN Auto Encoder for KITT data sets"
   ]
  },
  {
   "cell_type": "code",
   "execution_count": 102,
   "metadata": {},
   "outputs": [],
   "source": [
    "import tensorflow as tf\n",
    "import numpy as np\n",
    "import os\n",
    "import matplotlib.pyplot as plt\n",
    "import numpy as np\n",
    "import matplotlib.image as mpimg\n",
    "from process_data import  process_data\n",
    "batch_size=20\n",
    "num_epochs=100\n",
    "hidden_size=1024\n",
    "RESTORE=0\n",
    "SEED = None\n",
    "%matplotlib inline \n",
    "# display inline"
   ]
  },
  {
   "cell_type": "code",
   "execution_count": 103,
   "metadata": {},
   "outputs": [
    {
     "name": "stdout",
     "output_type": "stream",
     "text": [
      "(30602, 18, 60, 3)\n"
     ]
    }
   ],
   "source": [
    "data=np.load('../rgb_data.npy')\n",
    "data=np.transpose(data,(0,2,1,3))# swap the two dimensions\n",
    "print(data.shape)"
   ]
  },
  {
   "cell_type": "code",
   "execution_count": 104,
   "metadata": {},
   "outputs": [
    {
     "data": {
      "text/plain": [
       "<matplotlib.image.AxesImage at 0x14f583b00>"
      ]
     },
     "execution_count": 104,
     "metadata": {},
     "output_type": "execute_result"
    },
    {
     "data": {
      "image/png": "[encoded data removed]",
      "text/plain": [
       "<matplotlib.figure.Figure at 0x14dc2cb00>"
      ]
     },
     "metadata": {},
     "output_type": "display_data"
    }
   ],
   "source": [
    "plt.imshow(data[0])# shape (18,60,3)"
   ]
  },
  {
   "cell_type": "code",
   "execution_count": 105,
   "metadata": {
    "collapsed": true
   },
   "outputs": [],
   "source": [
    "inputs= tf.placeholder(tf.float32, (None, 18,60,3), name=\"input\")\n",
    "outputs=tf.placeholder(tf.float32, (None, 18,60,3), name=\"ouput\")"
   ]
  },
  {
   "cell_type": "code",
   "execution_count": 106,
   "metadata": {},
   "outputs": [],
   "source": [
    "### Encoder use high level module \n",
    "conv1=tf.layers.conv2d(inputs=inputs,filters=16,kernel_size=(3,3),padding='same',\n",
    "                       activation=tf.nn.relu)\n",
    "#now (batch,18,60,16)\n",
    "\n",
    "pool1=tf.layers.max_pooling2d(conv1,pool_size=(2,2),strides=(2,2),padding='same')\n",
    "#now (batch,9,30,16)\n",
    "\n",
    "conv2=tf.layers.conv2d(inputs=pool1,filters=8,kernel_size=(3,3),padding='same',\n",
    "                       activation=tf.nn.relu)\n",
    "# now (batch,9,30,8)\n",
    "\n",
    "pool2=tf.layers.max_pooling2d(conv2,pool_size=(2,2),strides=(2,2),padding='same')\n",
    "#now (batch,5,15,8)\n",
    "#########################################################################################\n",
    "\n",
    "### Decoder using high level modules \n",
    "upsample1=tf.image.resize_images(pool2,size=(9,30),\n",
    "                                 method=tf.image.ResizeMethod.NEAREST_NEIGHBOR)\n",
    "# now (batch,9,30,8)\n",
    "conv4=tf.layers.conv2d(inputs=upsample1,filters=16,kernel_size=(3,3),padding='same',\n",
    "                       activation=tf.nn.relu)\n",
    "#now (batch,9,30,8)\n",
    "\n",
    "upsample2 = tf.image.resize_images(conv4, size=(18,60),\n",
    "                                   method=tf.image.ResizeMethod.NEAREST_NEIGHBOR)\n",
    "#now (batch,18,60,8)\n",
    "out=tf.layers.conv2d(inputs=upsample2,filters=3,kernel_size=(3,3),padding='same',\n",
    "                       activation=tf.nn.relu)"
   ]
  },
  {
   "cell_type": "code",
   "execution_count": 107,
   "metadata": {},
   "outputs": [],
   "source": [
    "# define loss\n",
    "learning_rate=1e-3\n",
    "loss=tf.nn.l2_loss(out-outputs)\n",
    "optimizer=tf.train.AdamOptimizer(learning_rate).minimize(loss)\n",
    "\n",
    "init=tf.global_variables_initializer()"
   ]
  },
  {
   "cell_type": "code",
   "execution_count": 108,
   "metadata": {
    "collapsed": true
   },
   "outputs": [],
   "source": [
    "train_size=data.shape[0]\n",
    "train_indices=range(train_size)"
   ]
  },
  {
   "cell_type": "code",
   "execution_count": 111,
   "metadata": {},
   "outputs": [
    {
     "name": "stdout",
     "output_type": "stream",
     "text": [
      "Epoch: 0... Training loss: 246.5536\n",
      "Epoch: 1... Training loss: 261.4155\n",
      "Epoch: 2... Training loss: 226.6541\n",
      "Epoch: 3... Training loss: 206.7467\n",
      "Epoch: 4... Training loss: 187.4369\n",
      "Epoch: 5... Training loss: 179.2553\n",
      "Epoch: 6... Training loss: 181.8530\n",
      "Epoch: 7... Training loss: 212.8387\n",
      "Epoch: 8... Training loss: 185.7000\n",
      "Epoch: 9... Training loss: 193.2787\n",
      "Epoch: 10... Training loss: 206.2954\n",
      "Epoch: 11... Training loss: 174.7063\n",
      "Epoch: 12... Training loss: 199.6790\n",
      "Epoch: 13... Training loss: 185.9138\n",
      "Epoch: 14... Training loss: 165.7083\n",
      "Epoch: 15... Training loss: 193.7622\n",
      "Epoch: 16... Training loss: 171.1837\n",
      "Epoch: 17... Training loss: 196.3427\n",
      "Epoch: 18... Training loss: 182.2139\n",
      "Epoch: 19... Training loss: 173.4208\n",
      "Epoch: 20... Training loss: 172.3999\n",
      "Epoch: 21... Training loss: 172.1098\n",
      "Epoch: 22... Training loss: 161.1723\n",
      "Epoch: 23... Training loss: 152.4801\n",
      "Epoch: 24... Training loss: 167.7528\n",
      "Epoch: 25... Training loss: 160.6401\n",
      "Epoch: 26... Training loss: 171.3430\n",
      "Epoch: 27... Training loss: 157.4397\n",
      "Epoch: 28... Training loss: 182.4346\n",
      "Epoch: 29... Training loss: 177.9862\n"
     ]
    },
    {
     "data": {
      "text/plain": [
       "<matplotlib.image.AxesImage at 0x14fbac5f8>"
      ]
     },
     "execution_count": 111,
     "metadata": {},
     "output_type": "execute_result"
    },
    {
     "data": {
      "image/png": "[encoded data removed]",
      "text/plain": [
       "<matplotlib.figure.Figure at 0x14e1fa048>"
      ]
     },
     "metadata": {},
     "output_type": "display_data"
    }
   ],
   "source": [
    "# training process\n",
    "with tf.Session() as sess:\n",
    "    sess.run(init)\n",
    "    for ipochs in range(30):\n",
    "        perm_indices=np.random.permutation(train_indices)\n",
    "        for step in range(int(train_size/batch_size)):\n",
    "            offset=(step*batch_size)%(train_size-batch_size)\n",
    "            batch_indices=perm_indices[offset:(offset+batch_size)]\n",
    "            \n",
    "            l,_=sess.run([loss,optimizer],feed_dict={inputs:data[batch_indices],\n",
    "                                                     outputs:data[batch_indices]})\n",
    "            \n",
    "        print(\"Epoch: {}...\".format(ipochs),\n",
    "                       \"Training loss: {:.4f}\".format(l))\n",
    "            \n",
    "#test on reconstruction  \n",
    "\n",
    "    reconstruction=sess.run(out,feed_dict={inputs:data[0:1]})\n",
    "    \n",
    "plt.imshow(reconstruction[0])"
   ]
  }
 ],
 "metadata": {
  "kernelspec": {
   "display_name": "Python 3",
   "language": "python",
   "name": "python3"
  },
  "language_info": {
   "codemirror_mode": {
    "name": "ipython",
    "version": 3
   },
   "file_extension": ".py",
   "mimetype": "text/x-python",
   "name": "python",
   "nbconvert_exporter": "python",
   "pygments_lexer": "ipython3",
   "version": "3.6.2"
  }
 },
 "nbformat": 4,
 "nbformat_minor": 2
}
