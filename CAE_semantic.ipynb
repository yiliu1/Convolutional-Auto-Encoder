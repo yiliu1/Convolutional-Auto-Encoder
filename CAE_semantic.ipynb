{
 "cells": [
  {
   "cell_type": "markdown",
   "metadata": {},
   "source": [
    "# Convolutional  Semantic Auto Encoder "
   ]
  },
  {
   "cell_type": "markdown",
   "metadata": {},
   "source": [
    "CNN Auto Encoder for KITT data sets"
   ]
  },
  {
   "cell_type": "code",
   "execution_count": 4,
   "metadata": {
    "collapsed": true
   },
   "outputs": [],
   "source": [
    "import tensorflow as tf\n",
    "import numpy as np\n",
    "import os\n",
    "import matplotlib.pyplot as plt\n",
    "import numpy as np\n",
    "import matplotlib.image as mpimg\n",
    "from process_data import  process_data\n",
    "batch_size=20\n",
    "num_epochs=100\n",
    "hidden_size=1024\n",
    "RESTORE=0\n",
    "SEED = None\n",
    "%matplotlib inline \n",
    "# display inline"
   ]
  },
  {
   "cell_type": "code",
   "execution_count": 33,
   "metadata": {},
   "outputs": [
    {
     "name": "stdout",
     "output_type": "stream",
     "text": [
      "(30602, 18, 60, 5)\n"
     ]
    }
   ],
   "source": [
    "data=np.load('../sem_data.npy')\n",
    "data=np.transpose(data,(0,2,1,3))# swap the two dimensions\n",
    "print(data.shape)"
   ]
  },
  {
   "cell_type": "code",
   "execution_count": 34,
   "metadata": {},
   "outputs": [],
   "source": [
    "data=np.argmax(data,axis=3)\n",
    "data=np.expand_dims(data,axis=3)"
   ]
  },
  {
   "cell_type": "code",
   "execution_count": 35,
   "metadata": {},
   "outputs": [
    {
     "data": {
      "text/plain": [
       "(30602, 18, 60, 1)"
      ]
     },
     "execution_count": 35,
     "metadata": {},
     "output_type": "execute_result"
    }
   ],
   "source": [
    "data.shape"
   ]
  },
  {
   "cell_type": "code",
   "execution_count": 37,
   "metadata": {},
   "outputs": [
    {
     "data": {
      "text/plain": [
       "<matplotlib.image.AxesImage at 0x12295fdd8>"
      ]
     },
     "execution_count": 37,
     "metadata": {},
     "output_type": "execute_result"
    },
    {
     "data": {
      "image/png": "[encoded data removed]",
      "text/plain": [
       "<matplotlib.figure.Figure at 0x122aa9240>"
      ]
     },
     "metadata": {},
     "output_type": "display_data"
    }
   ],
   "source": [
    "plt.imshow(data[0,:,:,0])"
   ]
  },
  {
   "cell_type": "code",
   "execution_count": 18,
   "metadata": {},
   "outputs": [
    {
     "data": {
      "text/plain": [
       "array([[3, 3, 3, ..., 3, 3, 3],\n",
       "       [3, 3, 3, ..., 3, 3, 3],\n",
       "       [3, 3, 3, ..., 3, 3, 3],\n",
       "       ..., \n",
       "       [0, 0, 0, ..., 3, 3, 3],\n",
       "       [0, 0, 0, ..., 3, 3, 3],\n",
       "       [0, 0, 0, ..., 0, 0, 0]])"
      ]
     },
     "execution_count": 18,
     "metadata": {},
     "output_type": "execute_result"
    }
   ],
   "source": [
    "data[0,:,:,0]"
   ]
  },
  {
   "cell_type": "code",
   "execution_count": 22,
   "metadata": {
    "collapsed": true
   },
   "outputs": [],
   "source": [
    "inputs= tf.placeholder(tf.float32, (None, 18,60,5), name=\"input\")\n",
    "outputs=tf.placeholder(tf.float32, (None, 18,60,5), name=\"ouput\")"
   ]
  },
  {
   "cell_type": "code",
   "execution_count": 23,
   "metadata": {
    "collapsed": true
   },
   "outputs": [],
   "source": [
    "### Encoder use high level module \n",
    "conv1=tf.layers.conv2d(inputs=inputs,filters=16,kernel_size=(3,3),padding='same',\n",
    "                       activation=tf.nn.relu)\n",
    "#now (batch,18,60,16)\n",
    "\n",
    "pool1=tf.layers.max_pooling2d(conv1,pool_size=(2,2),strides=(2,2),padding='same')\n",
    "#now (batch,9,30,16)\n",
    "\n",
    "conv2=tf.layers.conv2d(inputs=pool1,filters=8,kernel_size=(3,3),padding='same',\n",
    "                       activation=tf.nn.relu)\n",
    "# now (batch,9,30,8)\n",
    "\n",
    "pool2=tf.layers.max_pooling2d(conv2,pool_size=(2,2),strides=(2,2),padding='same')\n",
    "#now (batch,5,15,8)\n",
    "#########################################################################################\n",
    "\n",
    "### Decoder using high level modules \n",
    "upsample1=tf.image.resize_images(pool2,size=(9,30),\n",
    "                                 method=tf.image.ResizeMethod.NEAREST_NEIGHBOR)\n",
    "# now (batch,9,30,8)\n",
    "conv4=tf.layers.conv2d(inputs=upsample1,filters=16,kernel_size=(3,3),padding='same',\n",
    "                       activation=tf.nn.relu)\n",
    "#now (batch,9,30,8)\n",
    "\n",
    "upsample2 = tf.image.resize_images(conv4, size=(18,60),\n",
    "                                   method=tf.image.ResizeMethod.NEAREST_NEIGHBOR)\n",
    "#now (batch,18,60,8)\n",
    "out=tf.layers.conv2d(inputs=upsample2,filters=5,kernel_size=(3,3),padding='same',\n",
    "                       activation=tf.nn.sigmoid)"
   ]
  },
  {
   "cell_type": "code",
   "execution_count": 26,
   "metadata": {},
   "outputs": [
    {
     "name": "stdout",
     "output_type": "stream",
     "text": [
      "Epoch: 0... Training loss: 1397.0542\n",
      "Epoch: 1... Training loss: 1169.3750\n",
      "Epoch: 2... Training loss: 1255.0314\n",
      "Epoch: 3... Training loss: 927.9930\n",
      "Epoch: 4... Training loss: 1055.0366\n",
      "Epoch: 5... Training loss: 960.5538\n",
      "Epoch: 6... Training loss: 843.7450\n",
      "Epoch: 7... Training loss: 921.2224\n",
      "Epoch: 8... Training loss: 917.3130\n",
      "Epoch: 9... Training loss: 851.5352\n",
      "Epoch: 10... Training loss: 923.1862\n",
      "Epoch: 11... Training loss: 904.7434\n",
      "Epoch: 12... Training loss: 837.9018\n",
      "Epoch: 13... Training loss: 742.3932\n",
      "Epoch: 14... Training loss: 814.9731\n",
      "Epoch: 15... Training loss: 790.7560\n",
      "Epoch: 16... Training loss: 744.1453\n",
      "Epoch: 17... Training loss: 736.4362\n",
      "Epoch: 18... Training loss: 766.8525\n",
      "Epoch: 19... Training loss: 738.1409\n",
      "Epoch: 20... Training loss: 800.6354\n",
      "Epoch: 21... Training loss: 662.6362\n",
      "Epoch: 22... Training loss: 808.5799\n",
      "Epoch: 23... Training loss: 853.2076\n",
      "Epoch: 24... Training loss: 793.0251\n",
      "Epoch: 25... Training loss: 765.8461\n",
      "Epoch: 26... Training loss: 719.5712\n",
      "Epoch: 27... Training loss: 715.3853\n",
      "Epoch: 28... Training loss: 781.9403\n",
      "Epoch: 29... Training loss: 556.5707\n"
     ]
    }
   ],
   "source": [
    "# define loss\n",
    "learning_rate=1e-4\n",
    "loss=tf.nn.l2_loss(out-outputs)\n",
    "optimizer=tf.train.AdamOptimizer(learning_rate).minimize(loss)\n",
    "\n",
    "init=tf.global_variables_initializer()\n",
    "train_size=data.shape[0]\n",
    "train_indices=range(train_size)\n",
    "\n",
    "# training process\n",
    "with tf.Session() as sess:\n",
    "    sess.run(init)\n",
    "    for ipochs in range(30):\n",
    "        perm_indices=np.random.permutation(train_indices)\n",
    "        for step in range(int(train_size/batch_size)):\n",
    "            offset=(step*batch_size)%(train_size-batch_size)\n",
    "            batch_indices=perm_indices[offset:(offset+batch_size)]\n",
    "            \n",
    "            l,_=sess.run([loss,optimizer],feed_dict={inputs:data[batch_indices],\n",
    "                                                     outputs:data[batch_indices]})\n",
    "            \n",
    "        print(\"Epoch: {}...\".format(ipochs),\n",
    "                       \"Training loss: {:.4f}\".format(l))\n",
    "            \n",
    "#test on reconstruction  \n",
    "\n",
    "    reconstruction=sess.run(out,feed_dict={inputs:data[0:1]})\n",
    "    \n",
    "#plt.imshow(reconstruction[0,:,:,0])"
   ]
  },
  {
   "cell_type": "code",
   "execution_count": 27,
   "metadata": {},
   "outputs": [
    {
     "data": {
      "text/plain": [
       "(1, 18, 60, 5)"
      ]
     },
     "execution_count": 27,
     "metadata": {},
     "output_type": "execute_result"
    }
   ],
   "source": [
    "reconstruction.shape"
   ]
  },
  {
   "cell_type": "code",
   "execution_count": 28,
   "metadata": {
    "collapsed": true
   },
   "outputs": [],
   "source": [
    "reconstruction=np.argmax(reconstruction,axis=3)"
   ]
  },
  {
   "cell_type": "code",
   "execution_count": 29,
   "metadata": {},
   "outputs": [
    {
     "data": {
      "text/plain": [
       "(1, 18, 60)"
      ]
     },
     "execution_count": 29,
     "metadata": {},
     "output_type": "execute_result"
    }
   ],
   "source": [
    "reconstruction.shape"
   ]
  },
  {
   "cell_type": "markdown",
   "metadata": {},
   "source": [
    "# input semantic"
   ]
  },
  {
   "cell_type": "code",
   "execution_count": 38,
   "metadata": {},
   "outputs": [
    {
     "data": {
      "text/plain": [
       "<matplotlib.image.AxesImage at 0x1222f2898>"
      ]
     },
     "execution_count": 38,
     "metadata": {},
     "output_type": "execute_result"
    },
    {
     "data": {
      "image/png": "[encoded data removed]",
      "text/plain": [
       "<matplotlib.figure.Figure at 0x12293fe10>"
      ]
     },
     "metadata": {},
     "output_type": "display_data"
    }
   ],
   "source": [
    "plt.imshow(data[0,:,:,0])"
   ]
  },
  {
   "cell_type": "markdown",
   "metadata": {},
   "source": [
    "#  reconstruction semantic"
   ]
  },
  {
   "cell_type": "code",
   "execution_count": 30,
   "metadata": {},
   "outputs": [
    {
     "data": {
      "text/plain": [
       "<matplotlib.image.AxesImage at 0x122be1128>"
      ]
     },
     "execution_count": 30,
     "metadata": {},
     "output_type": "execute_result"
    },
    {
     "data": {
      "image/png": "[encoded data removed]",
      "text/plain": [
       "<matplotlib.figure.Figure at 0x1c3007a58>"
      ]
     },
     "metadata": {},
     "output_type": "display_data"
    }
   ],
   "source": [
    "plt.imshow(reconstruction[0])"
   ]
  }
 ],
 "metadata": {
  "kernelspec": {
   "display_name": "Python 3",
   "language": "python",
   "name": "python3"
  },
  "language_info": {
   "codemirror_mode": {
    "name": "ipython",
    "version": 3
   },
   "file_extension": ".py",
   "mimetype": "text/x-python",
   "name": "python",
   "nbconvert_exporter": "python",
   "pygments_lexer": "ipython3",
   "version": "3.6.2"
  }
 },
 "nbformat": 4,
 "nbformat_minor": 2
}
