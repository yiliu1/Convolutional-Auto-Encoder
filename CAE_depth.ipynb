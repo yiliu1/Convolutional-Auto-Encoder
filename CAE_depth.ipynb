{
 "cells": [
  {
   "cell_type": "markdown",
   "metadata": {},
   "source": [
    "# 1 .Convolutional Depth Auto encoder "
   ]
  },
  {
   "cell_type": "markdown",
   "metadata": {},
   "source": [
    "CNN Auto Encoder for KITT data sets"
   ]
  },
  {
   "cell_type": "code",
   "execution_count": 1,
   "metadata": {
    "collapsed": true
   },
   "outputs": [],
   "source": [
    "import tensorflow as tf\n",
    "import numpy as np\n",
    "import os\n",
    "import matplotlib.pyplot as plt\n",
    "import numpy as np\n",
    "import matplotlib.image as mpimg\n",
    "from process_data import  process_data\n",
    "batch_size=20\n",
    "num_epochs=100\n",
    "hidden_size=1024\n",
    "RESTORE=0\n",
    "SEED = None\n",
    "%matplotlib inline \n",
    "# display inline"
   ]
  },
  {
   "cell_type": "code",
   "execution_count": 2,
   "metadata": {},
   "outputs": [
    {
     "name": "stdout",
     "output_type": "stream",
     "text": [
      "(30602, 18, 60, 1)\n"
     ]
    }
   ],
   "source": [
    "data=np.load('../depth_data.npy')\n",
    "data=np.transpose(data,(0,2,1,3))# swap the two dimensions\n",
    "print(data.shape)"
   ]
  },
  {
   "cell_type": "code",
   "execution_count": 20,
   "metadata": {},
   "outputs": [
    {
     "data": {
      "text/plain": [
       "<matplotlib.image.AxesImage at 0x126122b70>"
      ]
     },
     "execution_count": 20,
     "metadata": {},
     "output_type": "execute_result"
    },
    {
     "data": {
      "image/png": "[encoded data removed]",
      "text/plain": [
       "<matplotlib.figure.Figure at 0x125c7f668>"
      ]
     },
     "metadata": {},
     "output_type": "display_data"
    }
   ],
   "source": [
    "plt.imshow(data[0,:,:,0],cmap=\"hot\")# shape (18,60,1)"
   ]
  },
  {
   "cell_type": "code",
   "execution_count": 7,
   "metadata": {
    "collapsed": true
   },
   "outputs": [],
   "source": [
    "inputs= tf.placeholder(tf.float32, (None, 18,60,1), name=\"input\")\n",
    "outputs=tf.placeholder(tf.float32, (None, 18,60,1), name=\"ouput\")"
   ]
  },
  {
   "cell_type": "code",
   "execution_count": 8,
   "metadata": {
    "collapsed": true
   },
   "outputs": [],
   "source": [
    "### Encoder use high level module \n",
    "conv1=tf.layers.conv2d(inputs=inputs,filters=16,kernel_size=(3,3),padding='same',\n",
    "                       activation=tf.nn.relu)\n",
    "#now (batch,18,60,16)\n",
    "\n",
    "pool1=tf.layers.max_pooling2d(conv1,pool_size=(2,2),strides=(2,2),padding='same')\n",
    "#now (batch,9,30,16)\n",
    "\n",
    "conv2=tf.layers.conv2d(inputs=pool1,filters=8,kernel_size=(3,3),padding='same',\n",
    "                       activation=tf.nn.relu)\n",
    "# now (batch,9,30,8)\n",
    "\n",
    "pool2=tf.layers.max_pooling2d(conv2,pool_size=(2,2),strides=(2,2),padding='same')\n",
    "#now (batch,5,15,8)\n",
    "#########################################################################################\n",
    "\n",
    "### Decoder using high level modules \n",
    "upsample1=tf.image.resize_images(pool2,size=(9,30),\n",
    "                                 method=tf.image.ResizeMethod.NEAREST_NEIGHBOR)\n",
    "# now (batch,9,30,8)\n",
    "conv4=tf.layers.conv2d(inputs=upsample1,filters=16,kernel_size=(3,3),padding='same',\n",
    "                       activation=tf.nn.relu)\n",
    "#now (batch,9,30,8)\n",
    "\n",
    "upsample2 = tf.image.resize_images(conv4, size=(18,60),\n",
    "                                   method=tf.image.ResizeMethod.NEAREST_NEIGHBOR)\n",
    "#now (batch,18,60,8)\n",
    "out=tf.layers.conv2d(inputs=upsample2,filters=1,kernel_size=(3,3),padding='same',\n",
    "                       activation=tf.nn.relu)"
   ]
  },
  {
   "cell_type": "code",
   "execution_count": 17,
   "metadata": {
    "collapsed": true
   },
   "outputs": [],
   "source": [
    "# define loss\n",
    "learning_rate=1e-4\n",
    "loss=tf.nn.l2_loss(out-outputs)\n",
    "optimizer=tf.train.AdamOptimizer(learning_rate).minimize(loss)\n",
    "\n",
    "init=tf.global_variables_initializer()"
   ]
  },
  {
   "cell_type": "code",
   "execution_count": 18,
   "metadata": {
    "collapsed": true
   },
   "outputs": [],
   "source": [
    "train_size=data.shape[0]\n",
    "train_indices=range(train_size)"
   ]
  },
  {
   "cell_type": "code",
   "execution_count": 19,
   "metadata": {},
   "outputs": [
    {
     "name": "stdout",
     "output_type": "stream",
     "text": [
      "Epoch: 0... Training loss: 264.9532\n",
      "Epoch: 1... Training loss: 295.4953\n",
      "Epoch: 2... Training loss: 276.0198\n",
      "Epoch: 3... Training loss: 278.4419\n",
      "Epoch: 4... Training loss: 340.4276\n",
      "Epoch: 5... Training loss: 339.8503\n",
      "Epoch: 6... Training loss: 304.5458\n",
      "Epoch: 7... Training loss: 267.9150\n",
      "Epoch: 8... Training loss: 273.1943\n",
      "Epoch: 9... Training loss: 425.8976\n",
      "Epoch: 10... Training loss: 359.5096\n",
      "Epoch: 11... Training loss: 225.5667\n",
      "Epoch: 12... Training loss: 258.3123\n",
      "Epoch: 13... Training loss: 306.8797\n",
      "Epoch: 14... Training loss: 433.6696\n",
      "Epoch: 15... Training loss: 308.1838\n",
      "Epoch: 16... Training loss: 372.8119\n",
      "Epoch: 17... Training loss: 326.9741\n",
      "Epoch: 18... Training loss: 313.5176\n",
      "Epoch: 19... Training loss: 355.4074\n",
      "Epoch: 20... Training loss: 231.9431\n",
      "Epoch: 21... Training loss: 237.2047\n",
      "Epoch: 22... Training loss: 204.4193\n",
      "Epoch: 23... Training loss: 224.8986\n",
      "Epoch: 24... Training loss: 257.5516\n",
      "Epoch: 25... Training loss: 280.3615\n",
      "Epoch: 26... Training loss: 167.8187\n",
      "Epoch: 27... Training loss: 364.6127\n",
      "Epoch: 28... Training loss: 248.1356\n",
      "Epoch: 29... Training loss: 237.2643\n"
     ]
    },
    {
     "data": {
      "text/plain": [
       "<matplotlib.image.AxesImage at 0x12661b9e8>"
      ]
     },
     "execution_count": 19,
     "metadata": {},
     "output_type": "execute_result"
    },
    {
     "data": {
      "image/png": "[encoded data removed]",
      "text/plain": [
       "<matplotlib.figure.Figure at 0x1265f3fd0>"
      ]
     },
     "metadata": {},
     "output_type": "display_data"
    }
   ],
   "source": [
    "# training process\n",
    "with tf.Session() as sess:\n",
    "    sess.run(init)\n",
    "    for ipochs in range(30):\n",
    "        perm_indices=np.random.permutation(train_indices)\n",
    "        for step in range(int(train_size/batch_size)):\n",
    "            offset=(step*batch_size)%(train_size-batch_size)\n",
    "            batch_indices=perm_indices[offset:(offset+batch_size)]\n",
    "            \n",
    "            l,_=sess.run([loss,optimizer],feed_dict={inputs:data[batch_indices],\n",
    "                                                     outputs:data[batch_indices]})\n",
    "            \n",
    "        print(\"Epoch: {}...\".format(ipochs),\n",
    "                       \"Training loss: {:.4f}\".format(l))\n",
    "            \n",
    "#test on reconstruction  \n",
    "\n",
    "    reconstruction=sess.run(out,feed_dict={inputs:data[0:1]})\n",
    "    \n",
    "plt.imshow(reconstruction[0,:,:,0])"
   ]
  },
  {
   "cell_type": "markdown",
   "metadata": {},
   "source": [
    "# autoencoder can reconstruct smoother depth "
   ]
  },
  {
   "cell_type": "markdown",
   "metadata": {},
   "source": [
    "# Reconstruction"
   ]
  },
  {
   "cell_type": "code",
   "execution_count": 21,
   "metadata": {},
   "outputs": [
    {
     "data": {
      "text/plain": [
       "<matplotlib.image.AxesImage at 0x12673d7b8>"
      ]
     },
     "execution_count": 21,
     "metadata": {},
     "output_type": "execute_result"
    },
    {
     "data": {
      "image/png": "[encoded data removed]",
      "text/plain": [
       "<matplotlib.figure.Figure at 0x126135ba8>"
      ]
     },
     "metadata": {},
     "output_type": "display_data"
    }
   ],
   "source": [
    "plt.imshow(reconstruction[0,:,:,0],cmap='hot')"
   ]
  },
  {
   "cell_type": "markdown",
   "metadata": {},
   "source": [
    "# input image"
   ]
  },
  {
   "cell_type": "code",
   "execution_count": 22,
   "metadata": {},
   "outputs": [
    {
     "data": {
      "text/plain": [
       "<matplotlib.image.AxesImage at 0x1267f0898>"
      ]
     },
     "execution_count": 22,
     "metadata": {},
     "output_type": "execute_result"
    },
    {
     "data": {
      "image/png": "[encoded data removed]",
      "text/plain": [
       "<matplotlib.figure.Figure at 0x1256d0b00>"
      ]
     },
     "metadata": {},
     "output_type": "display_data"
    }
   ],
   "source": [
    "plt.imshow(data[0,:,:,0],cmap=\"hot\")# shape (18,60,1)"
   ]
  },
  {
   "cell_type": "code",
   "execution_count": null,
   "metadata": {
    "collapsed": true
   },
   "outputs": [],
   "source": []
  }
 ],
 "metadata": {
  "kernelspec": {
   "display_name": "Python 3",
   "language": "python",
   "name": "python3"
  },
  "language_info": {
   "codemirror_mode": {
    "name": "ipython",
    "version": 3
   },
   "file_extension": ".py",
   "mimetype": "text/x-python",
   "name": "python",
   "nbconvert_exporter": "python",
   "pygments_lexer": "ipython3",
   "version": "3.6.2"
  }
 },
 "nbformat": 4,
 "nbformat_minor": 2
}
